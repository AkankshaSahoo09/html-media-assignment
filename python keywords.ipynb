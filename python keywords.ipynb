{
 "cells": [
  {
   "cell_type": "code",
   "execution_count": 1,
   "id": "ac163860-da83-4bf6-a464-246e896fab66",
   "metadata": {},
   "outputs": [],
   "source": [
    "#Significance of Keywords:\n",
    "#Building Blocks: Python keywords are essential building blocks of the language. They define the syntax and control flow of your programs.\n",
    "#Reserved Words: These words have special meanings within Python and cannot be used for variable names, function names, or anything else other than their intended purpose.\n",
    "#Always Available: Unlike functions or modules you import, keywords are pre-defined and available within the Python interpreter at all times."
   ]
  },
  {
   "cell_type": "code",
   "execution_count": 7,
   "id": "1c5f77b7-c5ca-4368-a7b8-c22bada1d1a4",
   "metadata": {},
   "outputs": [
    {
     "name": "stdout",
     "output_type": "stream",
     "text": [
      "0\n",
      "1\n",
      "2\n"
     ]
    }
   ],
   "source": [
    "#example-1 (break)\n",
    "for i in range(5):\n",
    "    if i == 3:\n",
    "        break  # Exit the loop when i reaches 3\n",
    "    print(i)"
   ]
  },
  {
   "cell_type": "code",
   "execution_count": 10,
   "id": "583ab2ff-0f57-40be-a9bc-00f50d3591e4",
   "metadata": {},
   "outputs": [
    {
     "data": {
      "text/plain": [
       "True"
      ]
     },
     "execution_count": 10,
     "metadata": {},
     "output_type": "execute_result"
    }
   ],
   "source": [
    "#example-2(true)\n",
    "x = True\n",
    "x is True"
   ]
  },
  {
   "cell_type": "code",
   "execution_count": 13,
   "id": "a7703fb2-6104-48d2-92ee-b8435bdd9f48",
   "metadata": {},
   "outputs": [
    {
     "name": "stdout",
     "output_type": "stream",
     "text": [
      "You are eligible to vote.\n"
     ]
    }
   ],
   "source": [
    "#example-3(if)\n",
    "age = 18\n",
    "if age >= 18:\n",
    "    print(\"You are eligible to vote.\")"
   ]
  },
  {
   "cell_type": "code",
   "execution_count": 14,
   "id": "d05f8d0c-ae90-4ec7-82d6-68ef0969cf93",
   "metadata": {},
   "outputs": [
    {
     "name": "stdout",
     "output_type": "stream",
     "text": [
      "Sorry, you are not eligible to vote yet.\n"
     ]
    }
   ],
   "source": [
    "#example-4(else)\n",
    "age = 15\n",
    "if age >= 18:\n",
    "    print(\"You can vote.\")\n",
    "else:\n",
    "    print(\"Sorry, you are not eligible to vote yet.\")"
   ]
  },
  {
   "cell_type": "code",
   "execution_count": 15,
   "id": "ecc54652-d6c8-4d92-8730-f7305df60ea6",
   "metadata": {},
   "outputs": [
    {
     "name": "stdout",
     "output_type": "stream",
     "text": [
      "Great job!\n"
     ]
    }
   ],
   "source": [
    "#example-5(elif)\n",
    "grade = 85\n",
    "if grade >= 90:\n",
    "    print(\"Excellent work!\")\n",
    "elif grade >= 80:\n",
    "    print(\"Great job!\")\n",
    "else:\n",
    "    print(\"Keep practicing!\")"
   ]
  },
  {
   "cell_type": "code",
   "execution_count": 16,
   "id": "bcad337b-0260-41f7-a9ea-b5d0c44340df",
   "metadata": {},
   "outputs": [],
   "source": [
    "#Identifiers in Python are names you give to variables, functions, classes, and other objects in your code. Here are the rules for defining them:\n",
    "\n",
    "#Characters: Identifiers can only contain letters (uppercase and lowercase: a-z, A-Z), digits (0-9), and the underscore character (_).\n",
    "\n",
    "#First Character: The first character of an identifier must be a letter or an underscore. It cannot start with a number.\n",
    "\n",
    "#Case Sensitivity: Python is case-sensitive. This means age and Age are considered different identifiers.\n",
    "\n",
    "#Reserved Words: You cannot use keywords (like if, for, def, etc.) as identifiers because they have special meanings in Python.\n",
    "\n",
    "#Length: There's no strict limit on the length of an identifier, but for readability, it's recommended to follow the PEP 8 style guide which suggests limiting line length to 79 characters.\n",
    "\n",
    "#Example:\n",
    "# valid identifier- total_cost \n",
    "#Invalid Examples:1variable (starts with a number),my-name (cannot contain hyphens),print (reserved keyword)"
   ]
  },
  {
   "cell_type": "code",
   "execution_count": 17,
   "id": "0fae0b98-dccd-4a63-a94a-ec5f5ba7fad6",
   "metadata": {},
   "outputs": [],
   "source": [
    "total_coast=500"
   ]
  },
  {
   "cell_type": "code",
   "execution_count": 18,
   "id": "f9f5687b-5f84-41c4-a51e-5c777af81350",
   "metadata": {},
   "outputs": [
    {
     "data": {
      "text/plain": [
       "500"
      ]
     },
     "execution_count": 18,
     "metadata": {},
     "output_type": "execute_result"
    }
   ],
   "source": [
    "total_coast"
   ]
  },
  {
   "cell_type": "code",
   "execution_count": 19,
   "id": "4c00c7cd-6edb-4705-8c03-dac4457fe400",
   "metadata": {},
   "outputs": [
    {
     "ename": "SyntaxError",
     "evalue": "invalid decimal literal (1343185853.py, line 1)",
     "output_type": "error",
     "traceback": [
      "\u001b[0;36m  Cell \u001b[0;32mIn[19], line 1\u001b[0;36m\u001b[0m\n\u001b[0;31m    1variable=4\u001b[0m\n\u001b[0m    ^\u001b[0m\n\u001b[0;31mSyntaxError\u001b[0m\u001b[0;31m:\u001b[0m invalid decimal literal\n"
     ]
    }
   ],
   "source": [
    "1variable=4"
   ]
  },
  {
   "cell_type": "code",
   "execution_count": 20,
   "id": "bc2148ed-2d5d-4612-bb4d-5572276b08c1",
   "metadata": {},
   "outputs": [
    {
     "ename": "SyntaxError",
     "evalue": "cannot assign to expression here. Maybe you meant '==' instead of '='? (2021396686.py, line 1)",
     "output_type": "error",
     "traceback": [
      "\u001b[0;36m  Cell \u001b[0;32mIn[20], line 1\u001b[0;36m\u001b[0m\n\u001b[0;31m    my-name=akanksha\u001b[0m\n\u001b[0m    ^\u001b[0m\n\u001b[0;31mSyntaxError\u001b[0m\u001b[0;31m:\u001b[0m cannot assign to expression here. Maybe you meant '==' instead of '='?\n"
     ]
    }
   ],
   "source": [
    "my-name=akanksha"
   ]
  },
  {
   "cell_type": "code",
   "execution_count": 21,
   "id": "40f74e71-eb25-4d0b-814a-33c134741deb",
   "metadata": {},
   "outputs": [
    {
     "ename": "TypeError",
     "evalue": "'int' object is not callable",
     "output_type": "error",
     "traceback": [
      "\u001b[0;31m---------------------------------------------------------------------------\u001b[0m",
      "\u001b[0;31mTypeError\u001b[0m                                 Traceback (most recent call last)",
      "Cell \u001b[0;32mIn[21], line 2\u001b[0m\n\u001b[1;32m      1\u001b[0m \u001b[38;5;28mprint\u001b[39m \u001b[38;5;241m=\u001b[39m \u001b[38;5;241m44\u001b[39m\n\u001b[0;32m----> 2\u001b[0m \u001b[38;5;28;43mprint\u001b[39;49m\u001b[43m(\u001b[49m\u001b[38;5;28;43mprint\u001b[39;49m\u001b[43m)\u001b[49m\n",
      "\u001b[0;31mTypeError\u001b[0m: 'int' object is not callable"
     ]
    }
   ],
   "source": [
    "print = 44\n",
    "print(print)"
   ]
  },
  {
   "cell_type": "code",
   "execution_count": 22,
   "id": "86a28570-b6dd-4dc4-89c5-e47377ddf91c",
   "metadata": {},
   "outputs": [],
   "source": [
    "#Comments in Python are lines of text that are ignored by the Python interpreter when the program runs. They are essentially explanations or notes you add within your code to improve its readability and maintainability. Here's why comments are useful and how they are used:\n",
    "\n",
    "#Reasons to Use Comments:\n",
    "#(1)Improved Readability: Comments explain the purpose of code sections, making it easier for you or others to understand what the code is doing, especially when revisiting it after some time.\n",
    "#(2)Logic Explanation: You can use comments to explain the thought process behind complex logic or algorithms implemented in your code.\n",
    "#(3)Documentation: Comments can act as documentation within your code, providing details about functions, classes, or specific code sections.\n",
    "#(4)Disabling Code (Temporarily): By adding a hash symbol (#) at the beginning of a line of code, you can turn it into a comment. This is useful for temporarily disabling parts of your code for testing purposes without deleting them."
   ]
  },
  {
   "cell_type": "code",
   "execution_count": 23,
   "id": "ef483d84-ee33-4793-a85e-9d995dc0e5bc",
   "metadata": {},
   "outputs": [],
   "source": [
    "#example-\n",
    "# Set the greeting message\n",
    "message = \"Hello!\""
   ]
  },
  {
   "cell_type": "code",
   "execution_count": 24,
   "id": "de50df6a-1467-46bb-8033-dac1ed587a36",
   "metadata": {},
   "outputs": [
    {
     "data": {
      "text/plain": [
       "'Hello!'"
      ]
     },
     "execution_count": 24,
     "metadata": {},
     "output_type": "execute_result"
    }
   ],
   "source": [
    "message"
   ]
  },
  {
   "cell_type": "code",
   "execution_count": 26,
   "id": "4a8f6180-226a-4c2b-bb37-c5471226e315",
   "metadata": {},
   "outputs": [],
   "source": [
    "\n",
    "#In Python,proper indentation is crucial because it defines the structure and flow of your code. Unlike many other programming languages that use curly braces ({}) or other symbols to mark code blocks, Python relies solely on indentation to determine which lines of code belong together. Here's why proper indentation is essential:\n",
    "\n",
    "#Syntax Requirement: Indentation is not just a stylistic preference; it's a mandatory part of Python's syntax. Incorrect indentation will lead to errors and prevent your code from running properly. The Python interpreter uses indentation to identify which statements are part of loops, conditional statements (like if and else), functions, and classes.\n",
    "\n",
    "#Code Readability: Consistent and proper indentation makes your Python code significantly easier to read and understand. It visually groups related statements, creating a clear hierarchy and structure. This is especially beneficial for complex code or when revisiting code after some time. Well-indented code allows you to quickly grasp the program's flow and functionality.\n",
    "\n",
    "#Maintainability: Proper indentation improves the maintainability of your code. When someone else (or even you in the future) needs to modify your code, proper indentation makes it easier to understand the logic and make changes without introducing errors. Consistent indentation helps in adding new features or fixing bugs efficiently.\n",
    "\n",
    "#Error Prevention: Inconsistent indentation can lead to unexpected behavior and errors. For instance, if a line within a loop is indented incorrectly, it might execute outside the loop unintentionally, causing issues with your program's logic. Proper indentation helps prevent these types of errors."
   ]
  },
  {
   "cell_type": "code",
   "execution_count": 27,
   "id": "aeece893-af01-42ac-93e9-fa73fde8d9eb",
   "metadata": {},
   "outputs": [],
   "source": [
    "#If indentation is incorrect in Python, you'll encounter errors that will prevent your code from running properly. Here's what might happen:\n",
    "#IndentationError: This is the most common error you'll face with incorrect indentation. The Python interpreter won't be able to understand the structure of your code and will throw an IndentationError. The error message will usually specify the line number where the indentation issue is detected.\n",
    "#Unexpected Behavior: Even if you don't see an explicit error message, incorrect indentation can lead to your code behaving unexpectedly. Parts of your code that should be within a loop or conditional statement might execute outside of it, causing unintended results. This can be difficult to debug because the error might not be immediately obvious\n",
    "#Logic Issues: Inconsistent indentation can introduce logic errors in your program. For instance, if a line within a loop is indented incorrectly, it might execute more times than intended or not at all, affecting the overall logic of your code."
   ]
  },
  {
   "cell_type": "code",
   "execution_count": 28,
   "id": "899bd7cc-0aa6-4d2b-88d2-0a614d1c3121",
   "metadata": {},
   "outputs": [],
   "source": [
    "#In Python, expressions and statements are fundamental building blocks of your code, but they serve different purposes:\n",
    "\n",
    "#Expression:\n",
    "\n",
    "#Value Producer: An expression evaluates to a single value. This value could be a number, a string, a boolean value (True or False), or the result of an operation.\n",
    "#Building Blocks for Statements: Expressions are often used within statements to provide the data or values needed for calculations, comparisons, or assignments.\n",
    "#Examples:\n",
    "#5 + 3 (evaluates to 8)\n",
    "#\"Hello, \" + name (concatenates \"Hello, \" with the value of name)\n",
    "#x * y (multiplies the values of x and y)\n",
    "#age >= 18 (comparison, evaluates to True or False)\n",
    "\n",
    "#Statement:\n",
    "\n",
    "#Action Performer: A statement performs an action or completes a task. It doesn't necessarily return a value on its own.\n",
    "#Instructions for the Program: Statements tell the Python interpreter what to do, such as assigning values to variables, printing output, or controlling the flow of execution with loops and conditional statements.\n",
    "#Examples:\n",
    "#x = 10 (assigns the value 10 to the variable x)\n",
    "#print(\"This is a message\") (prints the message on the console)\n",
    "#if age < 13: print(\"Not eligible\") (conditional statement)\n",
    "#for item in list: print(item) (loop that iterates over a list)"
   ]
  },
  {
   "cell_type": "code",
   "execution_count": 29,
   "id": "5d8100fc-7e92-44d5-9891-aa121c01b3fd",
   "metadata": {},
   "outputs": [
    {
     "data": {
      "text/plain": [
       "8"
      ]
     },
     "execution_count": 29,
     "metadata": {},
     "output_type": "execute_result"
    }
   ],
   "source": [
    "5+3"
   ]
  },
  {
   "cell_type": "code",
   "execution_count": 30,
   "id": "5228e814-0cfb-4be6-86be-0ff06fb9a7e4",
   "metadata": {},
   "outputs": [],
   "source": [
    "x=10"
   ]
  },
  {
   "cell_type": "code",
   "execution_count": 31,
   "id": "4332deca-0cfb-4954-9ec1-4bef853aec2f",
   "metadata": {},
   "outputs": [
    {
     "data": {
      "text/plain": [
       "10"
      ]
     },
     "execution_count": 31,
     "metadata": {},
     "output_type": "execute_result"
    }
   ],
   "source": [
    "x"
   ]
  },
  {
   "cell_type": "code",
   "execution_count": null,
   "id": "42392ec5-72e9-464f-912b-6877056e774c",
   "metadata": {},
   "outputs": [],
   "source": []
  }
 ],
 "metadata": {
  "kernelspec": {
   "display_name": "Python 3 (ipykernel)",
   "language": "python",
   "name": "python3"
  },
  "language_info": {
   "codemirror_mode": {
    "name": "ipython",
    "version": 3
   },
   "file_extension": ".py",
   "mimetype": "text/x-python",
   "name": "python",
   "nbconvert_exporter": "python",
   "pygments_lexer": "ipython3",
   "version": "3.10.8"
  }
 },
 "nbformat": 4,
 "nbformat_minor": 5
}
